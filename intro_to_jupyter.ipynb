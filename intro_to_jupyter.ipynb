{
 "cells": [
  {
   "cell_type": "markdown",
   "metadata": {},
   "source": [
    "# intro to jupyter\n",
    "\n",
    "* is an IDE\n",
    "* comments are things that are not going to executed \n",
    "    * line comment is '#'\n",
    "    * block comment ('''word ''')\n"
   ]
  },
  {
   "cell_type": "code",
   "execution_count": 5,
   "metadata": {},
   "outputs": [
    {
     "name": "stdout",
     "output_type": "stream",
     "text": [
      "hello world\n",
      "holla del mundo\n",
      "bonjour le monde\n"
     ]
    },
    {
     "data": {
      "text/plain": [
       "'\\n  (\"/)\\n    \\n'"
      ]
     },
     "execution_count": 5,
     "metadata": {},
     "output_type": "execute_result"
    }
   ],
   "source": [
    "print(\"hello world\")\n",
    "print('holla del mundo')\n",
    "print('bonjour le monde')\n",
    "# we were testing the basic functions of notebook\n",
    "# this was to get meethu introduced\n",
    "'''\n",
    "i have no sense of humor\n",
    "'''\n",
    "\n",
    "'''\n",
    "  (\"/)\n",
    "   \\|/\n",
    "    |\n",
    "   / \\\n",
    "'''"
   ]
  },
  {
   "cell_type": "code",
   "execution_count": 7,
   "metadata": {},
   "outputs": [
    {
     "name": "stdout",
     "output_type": "stream",
     "text": [
      "69\n"
     ]
    }
   ],
   "source": [
    "x = 69\n",
    "print(x)"
   ]
  },
  {
   "cell_type": "code",
   "execution_count": 11,
   "metadata": {},
   "outputs": [
    {
     "name": "stdout",
     "output_type": "stream",
     "text": [
      "10 times 10 is 100\n"
     ]
    }
   ],
   "source": [
    "x= 10\n",
    "y= x*x\n",
    "print(x,'times',x,'is',y)"
   ]
  },
  {
   "cell_type": "code",
   "execution_count": 18,
   "metadata": {},
   "outputs": [
    {
     "name": "stdout",
     "output_type": "stream",
     "text": [
      "RVS is Mishti 's brother\n",
      "RVS is Mishti 's brother\n"
     ]
    }
   ],
   "source": [
    "x= 'RVS'\n",
    "y= 'Mishti'\n",
    "\n",
    "print(x,'is',y,'\\'s brother')\n",
    "print(x,\"is\",y,\"'s brother\")"
   ]
  },
  {
   "cell_type": "code",
   "execution_count": 33,
   "metadata": {},
   "outputs": [
    {
     "name": "stdout",
     "output_type": "stream",
     "text": [
      "000.33\n"
     ]
    }
   ],
   "source": [
    "x=1/3\n",
    "print('{:06.2f}'.format(x))"
   ]
  }
 ],
 "metadata": {
  "kernelspec": {
   "display_name": "Python 3",
   "language": "python",
   "name": "python3"
  },
  "language_info": {
   "codemirror_mode": {
    "name": "ipython",
    "version": 3
   },
   "file_extension": ".py",
   "mimetype": "text/x-python",
   "name": "python",
   "nbconvert_exporter": "python",
   "pygments_lexer": "ipython3",
   "version": "3.7.6"
  }
 },
 "nbformat": 4,
 "nbformat_minor": 4
}
